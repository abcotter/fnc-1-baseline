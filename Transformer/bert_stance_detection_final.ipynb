{
 "cells": [
  {
   "cell_type": "code",
   "execution_count": 1,
   "id": "ec49290e",
   "metadata": {
    "scrolled": true
   },
   "outputs": [],
   "source": [
    "import transformers\n",
    "from transformers import BertModel, BertTokenizer, AdamW, get_linear_schedule_with_warmup\n",
    "import torch\n",
    "import numpy as np\n",
    "from torch import nn\n",
    "from torch.utils.data import Dataset\n",
    "import pandas as pd\n",
    "from torch.utils.data import DataLoader\n",
    "from torch import optim\n",
    "import torch.nn.functional as F\n",
    "from sklearn.model_selection import train_test_split\n",
    "from collections import defaultdict\n",
    "import time\n",
    "from matplotlib import pyplot as plt\n",
    "\n",
    "transformers.logging.set_verbosity_error()\n",
    "torch.cuda.empty_cache()"
   ]
  },
  {
   "cell_type": "markdown",
   "id": "b6294711",
   "metadata": {},
   "source": [
    "## Dataset"
   ]
  },
  {
   "cell_type": "code",
   "execution_count": 2,
   "id": "a2a2de96",
   "metadata": {},
   "outputs": [],
   "source": [
    "PRE_TRAINED_MODEL_NAME = 'bert-base-cased'\n",
    "MAX_LEN = 100\n",
    "BATCH_SIZE = 32\n",
    "RANDOM_SEED = 42"
   ]
  },
  {
   "cell_type": "code",
   "execution_count": 3,
   "id": "f0ad1bca",
   "metadata": {},
   "outputs": [],
   "source": [
    "tokenizer = BertTokenizer.from_pretrained(PRE_TRAINED_MODEL_NAME)"
   ]
  },
  {
   "cell_type": "code",
   "execution_count": 4,
   "id": "aa0fa57b",
   "metadata": {},
   "outputs": [],
   "source": [
    "stances_headlines =  pd.read_csv('../fnc-1/train_stances.csv')[:150]\n",
    "bodies = pd.read_csv('../fnc-1/train_bodies.csv')\n",
    "stances_bodies = stances_headlines.merge(bodies,on='Body ID')"
   ]
  },
  {
   "cell_type": "code",
   "execution_count": 5,
   "id": "429dc8d7",
   "metadata": {},
   "outputs": [
    {
     "data": {
      "text/plain": [
       "150"
      ]
     },
     "execution_count": 5,
     "metadata": {},
     "output_type": "execute_result"
    }
   ],
   "source": [
    "len(stances_headlines)"
   ]
  },
  {
   "cell_type": "code",
   "execution_count": 6,
   "id": "3139de65",
   "metadata": {},
   "outputs": [],
   "source": [
    "class StancesDataset(Dataset):\n",
    "    def __init__(self, headlines, bodies, stances, tokenizer, max_len):\n",
    "        self.headlines = headlines\n",
    "        self.bodies = bodies\n",
    "        self.stances = stances\n",
    "        self.tokenizer = tokenizer\n",
    "        self.max_len = max_len\n",
    "        self.categories = {\"unrelated\": 0, \"agree\": 1, \"discuss\": 2, \"disagree\": 3}\n",
    "\n",
    "\n",
    "    def __len__(self):\n",
    "        return len(self.headlines)\n",
    "\n",
    "    def __getitem__(self, idx):\n",
    "        headline = self.headlines[idx]\n",
    "        body = self.bodies[idx]\n",
    "        stance = self.stances[idx]\n",
    "        stance_label = self.categories[stance]\n",
    "\n",
    "        inputs = self.tokenizer.encode_plus(\n",
    "            headline,\n",
    "            body,\n",
    "            add_special_tokens=True,\n",
    "            max_length=self.max_len,\n",
    "            pad_to_max_length=True,\n",
    "            return_token_type_ids=True\n",
    "        )\n",
    "        \n",
    "        ids = inputs['input_ids']\n",
    "        mask = inputs['attention_mask']\n",
    "        token_type_ids = inputs[\"token_type_ids\"]\n",
    "        return {\n",
    "            'input_ids': torch.tensor(ids, dtype=torch.long),\n",
    "            'attention_mask': torch.tensor(mask, dtype=torch.long),\n",
    "            'token_type_ids': torch.tensor(token_type_ids, dtype=torch.long),\n",
    "            \"labels\": torch.tensor([stance_label], dtype=torch.long) \n",
    "        }"
   ]
  },
  {
   "cell_type": "markdown",
   "id": "565e3e83",
   "metadata": {},
   "source": [
    "## Model"
   ]
  },
  {
   "cell_type": "code",
   "execution_count": 7,
   "id": "b3eca60b",
   "metadata": {},
   "outputs": [],
   "source": [
    "class StanceDetectionModel(nn.Module):\n",
    "    def __init__(self, n_classes):\n",
    "        super().__init__()\n",
    "        self.bert = BertModel.from_pretrained(PRE_TRAINED_MODEL_NAME)\n",
    "        self.l1 = torch.nn.Linear(self.bert.config.hidden_size, n_classes)\n",
    "\n",
    "    def forward(self, input_ids, attention_mask, token_type_ids):\n",
    "        _,pooled_output = self.bert(input_ids=input_ids, attention_mask=attention_mask, token_type_ids=token_type_ids,\n",
    "                                 return_dict=False)\n",
    "        output = self.l1(pooled_output)\n",
    "        return F.softmax(output,dim=1)"
   ]
  },
  {
   "cell_type": "markdown",
   "id": "27a86309",
   "metadata": {},
   "source": [
    "## Training"
   ]
  },
  {
   "cell_type": "code",
   "execution_count": 8,
   "id": "ea61ef95",
   "metadata": {},
   "outputs": [],
   "source": [
    "def train(batch_size, data, model, loss_fn, optimizer, device='cpu'):\n",
    "    model = model.train()\n",
    "    model.to(device)\n",
    "    num_correct_predictions = 0\n",
    "    num_samples = len(data)\n",
    "    training_loss = []\n",
    "\n",
    "    batch_oldtime = time.time()\n",
    "    for i, input_data in enumerate(data):\n",
    "        batch_newtime = time.time()\n",
    "        batch_oldtime = batch_newtime\n",
    "        \n",
    "        input_ids = input_data['input_ids'].to(device)\n",
    "        attention_mask = input_data['attention_mask'].to(device)\n",
    "        token_type_ids = input_data['token_type_ids'].to(device)\n",
    "        labels = input_data['labels'].to(device).squeeze()\n",
    "        optimizer.zero_grad()\n",
    "        output = model(input_ids, attention_mask, token_type_ids)\n",
    "        preds = torch.argmax(output, dim=1)\n",
    "        num_correct_predictions += torch.sum(preds == labels)\n",
    "        loss = loss_fn(output, labels)\n",
    "        loss.backward()\n",
    "        optimizer.step()\n",
    "        training_loss.append(loss.item())\n",
    "    return num_correct_predictions.item()/len(data), np.mean(training_loss)\n"
   ]
  },
  {
   "cell_type": "code",
   "execution_count": 9,
   "id": "3b210470",
   "metadata": {},
   "outputs": [],
   "source": [
    "def validate(model, data, loss_fn, device='cpu'):\n",
    "    model = model.eval()\n",
    "    validation_losses = []\n",
    "    correct_predictions = 0\n",
    "\n",
    "    with torch.no_grad():\n",
    "         for i, input_data in enumerate(data):\n",
    "            input_ids = input_data[\"input_ids\"].to(device)\n",
    "            attention_mask = input_data[\"attention_mask\"].to(device)\n",
    "            token_type_ids = input_data['token_type_ids'].to(device)\n",
    "            labels = input_data[\"labels\"].to(device).squeeze()\n",
    "            output = model(input_ids, attention_mask, token_type_ids)\n",
    "            preds = torch.argmax(output, dim=1)\n",
    "\n",
    "            loss = loss_fn(output, labels)\n",
    "\n",
    "            correct_predictions += torch.sum(preds == labels)\n",
    "            validation_losses.append(loss.item())\n",
    "\n",
    "    return correct_predictions.item() / len(data), np.mean(validation_losses)"
   ]
  },
  {
   "cell_type": "code",
   "execution_count": 10,
   "id": "3bfd7744",
   "metadata": {},
   "outputs": [],
   "source": [
    "def create_data_loader(df, tokenizer, max_len, batch_size):\n",
    "    ds = StancesDataset(df['Headline'].to_numpy(),\n",
    "                        df['articleBody'].to_numpy(),\n",
    "                        df['Stance'].to_numpy(),\n",
    "                        tokenizer,\n",
    "                        max_len)\n",
    "\n",
    "\n",
    "    return DataLoader(\n",
    "        ds,\n",
    "        batch_size=batch_size\n",
    "  )\n",
    "\n",
    "df_train, df_test = train_test_split(stances_bodies, test_size=0.1, random_state=RANDOM_SEED)\n",
    "df_val, df_test = train_test_split(df_test, test_size=0.5, random_state=RANDOM_SEED)\n",
    "train_dataloader = create_data_loader(df_train, tokenizer, MAX_LEN, BATCH_SIZE)\n",
    "val_dataloader = create_data_loader(df_val, tokenizer, MAX_LEN, BATCH_SIZE)\n",
    "test_dataloader = create_data_loader(df_test, tokenizer, MAX_LEN, BATCH_SIZE)"
   ]
  },
  {
   "cell_type": "code",
   "execution_count": 11,
   "id": "11984577",
   "metadata": {},
   "outputs": [
    {
     "name": "stdout",
     "output_type": "stream",
     "text": [
      "Elapsed time at start of epoch 0 is 0.0002129077911376953s\n"
     ]
    },
    {
     "name": "stderr",
     "output_type": "stream",
     "text": [
      "/Users/abicotter/opt/anaconda3/envs/msci598/lib/python3.9/site-packages/transformers/tokenization_utils_base.py:2271: FutureWarning: The `pad_to_max_length` argument is deprecated and will be removed in a future version, use `padding=True` or `padding='longest'` to pad to the longest sequence in the batch, or use `padding='max_length'` to pad to a max length. In this case, you can give a specific length with `max_length` (e.g. `max_length=45`) or leave max_length to None to pad to the maximal input size of the model (e.g. 512 for Bert).\n",
      "  warnings.warn(\n"
     ]
    },
    {
     "name": "stdout",
     "output_type": "stream",
     "text": [
      "Training accuracy at epoch 0 is 15.6\n",
      "Mean training loss at epoch 0 is 1.2131047129631043\n",
      "Validaton accuracy at epoch 0 is 5.0\n",
      "Mean validation loss at epoch 0 is 1.0295509099960327\n",
      "Elapsed time at start of epoch 1 is 82.14542722702026s\n",
      "Training accuracy at epoch 1 is 19.8\n",
      "Mean training loss at epoch 1 is 1.0580237984657288\n",
      "Validaton accuracy at epoch 1 is 5.0\n",
      "Mean validation loss at epoch 1 is 1.029410481452942\n",
      "Elapsed time at start of epoch 2 is 82.44609117507935s\n",
      "Training accuracy at epoch 2 is 19.8\n",
      "Mean training loss at epoch 2 is 1.0579772353172303\n",
      "Validaton accuracy at epoch 2 is 5.0\n",
      "Mean validation loss at epoch 2 is 1.0294002294540405\n",
      "Elapsed time at start of epoch 3 is 82.27713084220886s\n",
      "Training accuracy at epoch 3 is 19.8\n",
      "Mean training loss at epoch 3 is 1.0579699873924255\n",
      "Validaton accuracy at epoch 3 is 5.0\n",
      "Mean validation loss at epoch 3 is 1.0293935537338257\n",
      "Elapsed time at start of epoch 4 is 82.63192796707153s\n",
      "Training accuracy at epoch 4 is 19.8\n",
      "Mean training loss at epoch 4 is 1.0579643487930297\n",
      "Validaton accuracy at epoch 4 is 5.0\n",
      "Mean validation loss at epoch 4 is 1.0293893814086914\n",
      "Elapsed time at start of epoch 5 is 83.53091096878052s\n",
      "Training accuracy at epoch 5 is 19.8\n",
      "Mean training loss at epoch 5 is 1.057960820198059\n",
      "Validaton accuracy at epoch 5 is 5.0\n",
      "Mean validation loss at epoch 5 is 1.0293869972229004\n",
      "Elapsed time at start of epoch 6 is 84.85985994338989s\n",
      "Training accuracy at epoch 6 is 19.8\n",
      "Mean training loss at epoch 6 is 1.0579584836959839\n",
      "Validaton accuracy at epoch 6 is 5.0\n",
      "Mean validation loss at epoch 6 is 1.0293854475021362\n",
      "Elapsed time at start of epoch 7 is 84.70715999603271s\n",
      "Training accuracy at epoch 7 is 19.8\n",
      "Mean training loss at epoch 7 is 1.0579568862915039\n",
      "Validaton accuracy at epoch 7 is 5.0\n",
      "Mean validation loss at epoch 7 is 1.0293843746185303\n",
      "Elapsed time at start of epoch 8 is 83.04515194892883s\n",
      "Training accuracy at epoch 8 is 19.8\n",
      "Mean training loss at epoch 8 is 1.0579556465148925\n",
      "Validaton accuracy at epoch 8 is 5.0\n",
      "Mean validation loss at epoch 8 is 1.0293837785720825\n",
      "Elapsed time at start of epoch 9 is 84.35811710357666s\n",
      "Training accuracy at epoch 9 is 19.8\n",
      "Mean training loss at epoch 9 is 1.0579551458358765\n",
      "Validaton accuracy at epoch 9 is 5.0\n",
      "Mean validation loss at epoch 9 is 1.0293834209442139\n",
      "Elapsed time at start of epoch 10 is 82.6930320262909s\n",
      "Training accuracy at epoch 10 is 19.8\n",
      "Mean training loss at epoch 10 is 1.0579548120498656\n",
      "Validaton accuracy at epoch 10 is 5.0\n",
      "Mean validation loss at epoch 10 is 1.0293833017349243\n",
      "Elapsed time at start of epoch 11 is 81.16232490539551s\n",
      "Training accuracy at epoch 11 is 19.8\n",
      "Mean training loss at epoch 11 is 1.0579548835754395\n",
      "Validaton accuracy at epoch 11 is 5.0\n",
      "Mean validation loss at epoch 11 is 1.0293834209442139\n",
      "Elapsed time at start of epoch 12 is 83.59236907958984s\n",
      "Training accuracy at epoch 12 is 19.8\n",
      "Mean training loss at epoch 12 is 1.0579547524452209\n",
      "Validaton accuracy at epoch 12 is 5.0\n",
      "Mean validation loss at epoch 12 is 1.0293834209442139\n",
      "Elapsed time at start of epoch 13 is 85.75439500808716s\n",
      "Training accuracy at epoch 13 is 19.8\n",
      "Mean training loss at epoch 13 is 1.0579547047615052\n",
      "Validaton accuracy at epoch 13 is 5.0\n",
      "Mean validation loss at epoch 13 is 1.0293834209442139\n",
      "Elapsed time at start of epoch 14 is 86.12911105155945s\n",
      "Training accuracy at epoch 14 is 19.8\n",
      "Mean training loss at epoch 14 is 1.05795476436615\n",
      "Validaton accuracy at epoch 14 is 5.0\n",
      "Mean validation loss at epoch 14 is 1.0293833017349243\n",
      "Elapsed time at start of epoch 15 is 80.46369099617004s\n",
      "Training accuracy at epoch 15 is 19.8\n",
      "Mean training loss at epoch 15 is 1.0579547166824341\n",
      "Validaton accuracy at epoch 15 is 5.0\n",
      "Mean validation loss at epoch 15 is 1.0293833017349243\n",
      "Elapsed time at start of epoch 16 is 80.4097511768341s\n",
      "Training accuracy at epoch 16 is 19.8\n",
      "Mean training loss at epoch 16 is 1.0579546809196472\n",
      "Validaton accuracy at epoch 16 is 5.0\n",
      "Mean validation loss at epoch 16 is 1.0293833017349243\n",
      "Elapsed time at start of epoch 17 is 80.03147792816162s\n",
      "Training accuracy at epoch 17 is 19.8\n",
      "Mean training loss at epoch 17 is 1.0579546213150024\n",
      "Validaton accuracy at epoch 17 is 5.0\n",
      "Mean validation loss at epoch 17 is 1.0293833017349243\n",
      "Elapsed time at start of epoch 18 is 80.71096682548523s\n",
      "Training accuracy at epoch 18 is 19.8\n",
      "Mean training loss at epoch 18 is 1.0579545736312865\n",
      "Validaton accuracy at epoch 18 is 5.0\n",
      "Mean validation loss at epoch 18 is 1.0293833017349243\n",
      "Elapsed time at start of epoch 19 is 80.05519604682922s\n",
      "Training accuracy at epoch 19 is 19.8\n",
      "Mean training loss at epoch 19 is 1.0579546332359313\n",
      "Validaton accuracy at epoch 19 is 5.0\n",
      "Mean validation loss at epoch 19 is 1.0293833017349243\n",
      "Elapsed time at start of epoch 20 is 79.88437414169312s\n",
      "Training accuracy at epoch 20 is 19.8\n",
      "Mean training loss at epoch 20 is 1.0579546213150024\n",
      "Validaton accuracy at epoch 20 is 5.0\n",
      "Mean validation loss at epoch 20 is 1.0293833017349243\n",
      "Elapsed time at start of epoch 21 is 80.32895994186401s\n",
      "Training accuracy at epoch 21 is 19.8\n",
      "Mean training loss at epoch 21 is 1.0579546213150024\n",
      "Validaton accuracy at epoch 21 is 5.0\n",
      "Mean validation loss at epoch 21 is 1.0293833017349243\n",
      "Elapsed time at start of epoch 22 is 100.18153500556946s\n",
      "Training accuracy at epoch 22 is 19.8\n",
      "Mean training loss at epoch 22 is 1.0579546093940735\n",
      "Validaton accuracy at epoch 22 is 5.0\n",
      "Mean validation loss at epoch 22 is 1.0293833017349243\n",
      "Elapsed time at start of epoch 23 is 94.84612774848938s\n",
      "Training accuracy at epoch 23 is 19.8\n",
      "Mean training loss at epoch 23 is 1.0579546093940735\n",
      "Validaton accuracy at epoch 23 is 5.0\n",
      "Mean validation loss at epoch 23 is 1.0293833017349243\n",
      "Elapsed time at start of epoch 24 is 81.08889126777649s\n",
      "Training accuracy at epoch 24 is 19.8\n",
      "Mean training loss at epoch 24 is 1.0579545974731446\n",
      "Validaton accuracy at epoch 24 is 5.0\n",
      "Mean validation loss at epoch 24 is 1.0293833017349243\n",
      "Elapsed time at start of epoch 25 is 80.35128688812256s\n",
      "Training accuracy at epoch 25 is 19.8\n",
      "Mean training loss at epoch 25 is 1.0579545974731446\n",
      "Validaton accuracy at epoch 25 is 5.0\n",
      "Mean validation loss at epoch 25 is 1.0293833017349243\n",
      "Elapsed time at start of epoch 26 is 80.2586760520935s\n",
      "Training accuracy at epoch 26 is 19.8\n",
      "Mean training loss at epoch 26 is 1.0579545736312865\n",
      "Validaton accuracy at epoch 26 is 5.0\n",
      "Mean validation loss at epoch 26 is 1.0293833017349243\n",
      "Elapsed time at start of epoch 27 is 80.0347888469696s\n",
      "Training accuracy at epoch 27 is 19.8\n",
      "Mean training loss at epoch 27 is 1.0579545855522157\n",
      "Validaton accuracy at epoch 27 is 5.0\n",
      "Mean validation loss at epoch 27 is 1.0293833017349243\n",
      "Elapsed time at start of epoch 28 is 80.01152014732361s\n",
      "Training accuracy at epoch 28 is 19.8\n",
      "Mean training loss at epoch 28 is 1.0579545617103576\n",
      "Validaton accuracy at epoch 28 is 5.0\n",
      "Mean validation loss at epoch 28 is 1.0293833017349243\n",
      "Elapsed time at start of epoch 29 is 80.1338758468628s\n",
      "Training accuracy at epoch 29 is 19.8\n",
      "Mean training loss at epoch 29 is 1.0579545974731446\n",
      "Validaton accuracy at epoch 29 is 5.0\n",
      "Mean validation loss at epoch 29 is 1.0293830633163452\n"
     ]
    }
   ],
   "source": [
    "epochs = 30\n",
    "batch_size=BATCH_SIZE\n",
    "device='cpu'\n",
    "learning_rate=0.001\n",
    "model = StanceDetectionModel(n_classes=4)\n",
    "loss_fn = nn.CrossEntropyLoss().to(device)\n",
    "optimizer = optim.Adam(model.parameters(), lr=learning_rate)\n",
    "\n",
    "history = defaultdict(list)\n",
    "best_accuracy = 0\n",
    "\n",
    "oldtime = time.time()\n",
    "\n",
    "for i  in range(epochs):\n",
    "    newtime = time.time()\n",
    "    delta = newtime - oldtime\n",
    "    oldtime = newtime\n",
    "    print(f'Elapsed time at start of epoch {i} is {delta}s')\n",
    "    accuracy, mean_loss = train(batch_size,train_dataloader, model, loss_fn, optimizer)\n",
    "    history['train_acc'].append(accuracy)\n",
    "    history['train_loss'].append(mean_loss)\n",
    "    print(f'Training accuracy at epoch {i} is {accuracy}')\n",
    "    print(f'Mean training loss at epoch {i} is {mean_loss}')\n",
    "    valAccuracy, mean_val_loss = validate(model, val_dataloader, loss_fn)\n",
    "    history['val_acc'].append(valAccuracy)\n",
    "    history['val_loss'].append(mean_val_loss)\n",
    "    print(f'Validaton accuracy at epoch {i} is {valAccuracy}')\n",
    "    print(f'Mean validation loss at epoch {i} is {mean_val_loss}')\n",
    "    \n",
    "    if valAccuracy > best_accuracy:\n",
    "        torch.save(model.state_dict(), 'best_model_state.bin')\n",
    "        best_accuracy = valAccuracy\n",
    "    "
   ]
  },
  {
   "cell_type": "code",
   "execution_count": 12,
   "id": "dedaddc9",
   "metadata": {},
   "outputs": [
    {
     "data": {
      "image/png": "[encoded data removed]",
      "text/plain": [
       "<Figure size 432x288 with 1 Axes>"
      ]
     },
     "metadata": {
      "needs_background": "light"
     },
     "output_type": "display_data"
    }
   ],
   "source": [
    "plt.plot(history['train_acc'], label='train accuracy')\n",
    "plt.plot(history['val_acc'], label='validation accuracy')\n",
    "\n",
    "plt.title('Training history')\n",
    "plt.ylabel('Accuracy')\n",
    "plt.xlabel('Epoch')\n",
    "plt.legend()\n",
    "plt.ylim([0, 100]);"
   ]
  },
  {
   "cell_type": "code",
   "execution_count": null,
   "id": "07ef2212",
   "metadata": {},
   "outputs": [],
   "source": []
  },
  {
   "cell_type": "code",
   "execution_count": null,
   "id": "bdc6dadb",
   "metadata": {},
   "outputs": [],
   "source": []
  }
 ],
 "metadata": {
  "kernelspec": {
   "display_name": "Python 3 (ipykernel)",
   "language": "python",
   "name": "python3"
  },
  "language_info": {
   "codemirror_mode": {
    "name": "ipython",
    "version": 3
   },
   "file_extension": ".py",
   "mimetype": "text/x-python",
   "name": "python",
   "nbconvert_exporter": "python",
   "pygments_lexer": "ipython3",
   "version": "3.9.9"
  }
 },
 "nbformat": 4,
 "nbformat_minor": 5
}
