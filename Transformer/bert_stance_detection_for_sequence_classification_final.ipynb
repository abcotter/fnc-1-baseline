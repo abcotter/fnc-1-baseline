{
 "cells": [
  {
   "cell_type": "code",
   "execution_count": 1,
   "id": "ec49290e",
   "metadata": {
    "id": "ec49290e",
    "outputId": "6fcfef25-5268-4a9f-b9a2-93974009cbef",
    "scrolled": true
   },
   "outputs": [],
   "source": [
    "import transformers\n",
    "from transformers import BertModel, BertTokenizer,BertForSequenceClassification, BertConfig, AdamW, get_linear_schedule_with_warmup\n",
    "import torch\n",
    "import numpy as np\n",
    "from torch import nn\n",
    "from torch.utils.data import Dataset\n",
    "import pandas as pd\n",
    "from torch.utils.data import DataLoader\n",
    "from torch import optim\n",
    "import torch.nn.functional as F\n",
    "from sklearn.model_selection import train_test_split\n",
    "from collections import defaultdict\n",
    "import time\n",
    "from matplotlib import pyplot as plt\n",
    "\n",
    "transformers.logging.set_verbosity_error()\n",
    "torch.cuda.empty_cache()"
   ]
  },
  {
   "cell_type": "markdown",
   "id": "b6294711",
   "metadata": {
    "id": "b6294711"
   },
   "source": [
    "## Dataset"
   ]
  },
  {
   "cell_type": "code",
   "execution_count": 2,
   "id": "a2a2de96",
   "metadata": {
    "id": "a2a2de96"
   },
   "outputs": [],
   "source": [
    "PRE_TRAINED_MODEL_NAME = 'bert-base-cased'\n",
    "MAX_LEN = 100\n",
    "BATCH_SIZE = 32\n",
    "RANDOM_SEED = 42"
   ]
  },
  {
   "cell_type": "code",
   "execution_count": 3,
   "id": "f0ad1bca",
   "metadata": {
    "id": "f0ad1bca"
   },
   "outputs": [],
   "source": [
    "tokenizer = BertTokenizer.from_pretrained(PRE_TRAINED_MODEL_NAME)"
   ]
  },
  {
   "cell_type": "code",
   "execution_count": 4,
   "id": "aa0fa57b",
   "metadata": {
    "id": "aa0fa57b",
    "outputId": "bff19f0e-3470-4653-d080-bc79e10e0a38"
   },
   "outputs": [],
   "source": [
    "train_stances = '../fnc-1/train_stances.csv'\n",
    "train_bodies = '../fnc-1/train_bodies.csv'\n",
    "\n",
    "stances_headlines =  pd.read_csv(train_stances)[:150]\n",
    "bodies = pd.read_csv(train_bodies)\n",
    "stances_bodies = stances_headlines.merge(bodies,on='Body ID')"
   ]
  },
  {
   "cell_type": "code",
   "execution_count": 5,
   "id": "429dc8d7",
   "metadata": {
    "id": "429dc8d7",
    "outputId": "5d8513d9-540f-4fc0-d966-a60f65cb790e"
   },
   "outputs": [
    {
     "data": {
      "text/plain": [
       "150"
      ]
     },
     "execution_count": 5,
     "metadata": {},
     "output_type": "execute_result"
    }
   ],
   "source": [
    "len(stances_headlines)"
   ]
  },
  {
   "cell_type": "code",
   "execution_count": 6,
   "id": "3139de65",
   "metadata": {
    "id": "3139de65"
   },
   "outputs": [],
   "source": [
    "class StancesDataset(Dataset):\n",
    "    def __init__(self, headlines, bodies, stances, tokenizer, max_len):\n",
    "        self.headlines = headlines\n",
    "        self.bodies = bodies\n",
    "        self.stances = stances\n",
    "        self.tokenizer = tokenizer\n",
    "        self.max_len = max_len\n",
    "        self.categories = {\"unrelated\": 0, \"agree\": 1, \"discuss\": 2, \"disagree\": 3}\n",
    "\n",
    "\n",
    "    def __len__(self):\n",
    "        return len(self.headlines)\n",
    "\n",
    "    def __getitem__(self, idx):\n",
    "        headline = self.headlines[idx]\n",
    "        body = self.bodies[idx]\n",
    "        stance = self.categories[self.stances[idx]]\n",
    "        stanceVec = [0,0,0,0]\n",
    "        stanceVec[stance] = 1\n",
    "\n",
    "        inputs = self.tokenizer.encode_plus(\n",
    "            headline,\n",
    "            body,\n",
    "            add_special_tokens=True,\n",
    "            max_length=self.max_len,\n",
    "            pad_to_max_length=True,\n",
    "            return_token_type_ids=True\n",
    "        )\n",
    "        \n",
    "        ids = inputs['input_ids']\n",
    "        mask = inputs['attention_mask']\n",
    "        token_type_ids = inputs[\"token_type_ids\"]\n",
    "        return {\n",
    "            'input_ids': torch.tensor(ids, dtype=torch.long),\n",
    "            'attention_mask': torch.tensor(mask, dtype=torch.long),\n",
    "            'token_type_ids': torch.tensor(token_type_ids, dtype=torch.long),\n",
    "            \"onehotlabels\": torch.tensor(stanceVec, dtype=torch.float),\n",
    "            \"labels\": torch.tensor([stance], dtype=torch.float)\n",
    "        }"
   ]
  },
  {
   "cell_type": "markdown",
   "id": "565e3e83",
   "metadata": {
    "id": "565e3e83"
   },
   "source": [
    "## Model"
   ]
  },
  {
   "cell_type": "code",
   "execution_count": 7,
   "id": "3f8f2a2a",
   "metadata": {},
   "outputs": [],
   "source": [
    "configuration = BertConfig()\n",
    "model = BertForSequenceClassification(config = configuration)\n",
    "model = model.from_pretrained(PRE_TRAINED_MODEL_NAME, problem_type=\"multi_label_classification\", num_labels = 4)"
   ]
  },
  {
   "cell_type": "markdown",
   "id": "27a86309",
   "metadata": {
    "id": "27a86309"
   },
   "source": [
    "## Training"
   ]
  },
  {
   "cell_type": "code",
   "execution_count": 8,
   "id": "ea61ef95",
   "metadata": {
    "id": "ea61ef95"
   },
   "outputs": [],
   "source": [
    "def train(batch_size, data, model, loss_fn, num_samples, optimizer, device='cpu'):\n",
    "    model = model.train()\n",
    "    model.to(device)\n",
    "    num_correct_predictions = 0\n",
    "    num_samples = len(data)\n",
    "    training_loss = []\n",
    "\n",
    "    batch_oldtime = time.time()\n",
    "    for i, input_data in enumerate(data):\n",
    "        batch_newtime = time.time()\n",
    "        batch_oldtime = batch_newtime\n",
    "        \n",
    "        input_ids = input_data['input_ids'].to(device)\n",
    "        attention_mask = input_data['attention_mask'].to(device)\n",
    "        token_type_ids = input_data['token_type_ids'].to(device)\n",
    "        onehotlabels = input_data['onehotlabels'].to(device).squeeze()\n",
    "        labels = input_data['labels'].to(device).squeeze()\n",
    "        optimizer.zero_grad()\n",
    "        output = model(input_ids, attention_mask, token_type_ids, labels=onehotlabels)\n",
    "        preds = output.logits\n",
    "        num_correct_predictions += torch.sum(torch.argmax(preds, dim=1) == labels)\n",
    "        loss = output.loss\n",
    "        loss.backward()\n",
    "        optimizer.step()\n",
    "        training_loss.append(loss.item())\n",
    "    return num_correct_predictions.item()/num_samples, np.mean(training_loss)\n"
   ]
  },
  {
   "cell_type": "code",
   "execution_count": 9,
   "id": "3b210470",
   "metadata": {
    "id": "3b210470"
   },
   "outputs": [],
   "source": [
    "def validate(model, data, loss_fn, num_samples, device='cpu'):\n",
    "    model = model.eval()\n",
    "    validation_losses = []\n",
    "    correct_predictions = 0\n",
    "\n",
    "    with torch.no_grad():\n",
    "         for i, input_data in enumerate(data):\n",
    "            input_ids = input_data[\"input_ids\"].to(device)\n",
    "            attention_mask = input_data[\"attention_mask\"].to(device)\n",
    "            token_type_ids = input_data['token_type_ids'].to(device)\n",
    "            onehotlabels = input_data['onehotlabels'].to(device).squeeze()\n",
    "            labels = input_data['labels'].to(device).squeeze()\n",
    "            output = model(input_ids, attention_mask, token_type_ids, labels=onehotlabels)\n",
    "            preds=output.logits\n",
    "            loss = output.loss\n",
    "\n",
    "            correct_predictions += torch.sum(torch.argmax(preds, dim=1) == labels)\n",
    "            validation_losses.append(loss.item())\n",
    "\n",
    "    return correct_predictions.item() /num_samples, np.mean(validation_losses)"
   ]
  },
  {
   "cell_type": "code",
   "execution_count": 10,
   "id": "3bfd7744",
   "metadata": {
    "id": "3bfd7744"
   },
   "outputs": [],
   "source": [
    "def create_data_loader(df, tokenizer, max_len, batch_size):\n",
    "    ds = StancesDataset(df['Headline'].to_numpy(),\n",
    "                        df['articleBody'].to_numpy(),\n",
    "                        df['Stance'].to_numpy(),\n",
    "                        tokenizer,\n",
    "                        max_len)\n",
    "\n",
    "\n",
    "    return DataLoader(\n",
    "        ds,\n",
    "        batch_size=batch_size\n",
    "  )\n",
    "\n",
    "df_train, df_test = train_test_split(stances_bodies, test_size=0.1, random_state=RANDOM_SEED)\n",
    "df_val, df_test = train_test_split(df_test, test_size=0.5, random_state=RANDOM_SEED)\n",
    "train_dataloader = create_data_loader(df_train, tokenizer, MAX_LEN, BATCH_SIZE)\n",
    "val_dataloader = create_data_loader(df_val, tokenizer, MAX_LEN, BATCH_SIZE)\n",
    "test_dataloader = create_data_loader(df_test, tokenizer, MAX_LEN, BATCH_SIZE)"
   ]
  },
  {
   "cell_type": "code",
   "execution_count": 11,
   "id": "11984577",
   "metadata": {
    "id": "11984577",
    "outputId": "116f9740-27a4-4d4a-f6f3-e38410a97c4c"
   },
   "outputs": [
    {
     "name": "stderr",
     "output_type": "stream",
     "text": [
      "/Users/abicotter/opt/anaconda3/envs/msci598/lib/python3.9/site-packages/transformers/optimization.py:306: FutureWarning: This implementation of AdamW is deprecated and will be removed in a future version. Use the PyTorch implementation torch.optim.AdamW instead, or set `no_deprecation_warning=True` to disable this warning\n",
      "  warnings.warn(\n",
      "/Users/abicotter/opt/anaconda3/envs/msci598/lib/python3.9/site-packages/transformers/tokenization_utils_base.py:2271: FutureWarning: The `pad_to_max_length` argument is deprecated and will be removed in a future version, use `padding=True` or `padding='longest'` to pad to the longest sequence in the batch, or use `padding='max_length'` to pad to a max length. In this case, you can give a specific length with `max_length` (e.g. `max_length=45`) or leave max_length to None to pad to the maximal input size of the model (e.g. 512 for Bert).\n",
      "  warnings.warn(\n"
     ]
    },
    {
     "name": "stdout",
     "output_type": "stream",
     "text": [
      "Elapsed time at start of epoch 0 is 0.0002071857452392578s\n",
      "Training accuracy at epoch 0 is 19.4\n",
      "Mean training loss at epoch 0 is 0.5931237578392029\n",
      "Validaton accuracy at epoch 0 is 0.7142857142857143\n",
      "Mean validation loss at epoch 0 is 0.4987427592277527\n",
      "Elapsed time at start of epoch 1 is 81.22528791427612s\n",
      "Training accuracy at epoch 1 is 21.8\n",
      "Mean training loss at epoch 1 is 0.4593853294849396\n",
      "Validaton accuracy at epoch 1 is 0.7142857142857143\n",
      "Mean validation loss at epoch 1 is 0.37733712792396545\n",
      "Elapsed time at start of epoch 2 is 81.04011487960815s\n",
      "Training accuracy at epoch 2 is 22.6\n",
      "Mean training loss at epoch 2 is 0.3573737323284149\n",
      "Validaton accuracy at epoch 2 is 0.7142857142857143\n",
      "Mean validation loss at epoch 2 is 0.2969524562358856\n",
      "Elapsed time at start of epoch 3 is 79.35876202583313s\n",
      "Training accuracy at epoch 3 is 22.8\n",
      "Mean training loss at epoch 3 is 0.27605676352977754\n",
      "Validaton accuracy at epoch 3 is 0.7142857142857143\n",
      "Mean validation loss at epoch 3 is 0.2602374255657196\n",
      "Elapsed time at start of epoch 4 is 81.47924304008484s\n",
      "Training accuracy at epoch 4 is 23.6\n",
      "Mean training loss at epoch 4 is 0.22850883901119232\n",
      "Validaton accuracy at epoch 4 is 0.7142857142857143\n",
      "Mean validation loss at epoch 4 is 0.23124635219573975\n",
      "Elapsed time at start of epoch 5 is 83.48370099067688s\n",
      "Training accuracy at epoch 5 is 24.4\n",
      "Mean training loss at epoch 5 is 0.19315895438194275\n",
      "Validaton accuracy at epoch 5 is 0.8571428571428571\n",
      "Mean validation loss at epoch 5 is 0.21492452919483185\n",
      "Elapsed time at start of epoch 6 is 82.31193804740906s\n",
      "Training accuracy at epoch 6 is 24.4\n",
      "Mean training loss at epoch 6 is 0.1757742792367935\n",
      "Validaton accuracy at epoch 6 is 0.8571428571428571\n",
      "Mean validation loss at epoch 6 is 0.204797625541687\n",
      "Elapsed time at start of epoch 7 is 79.53302025794983s\n",
      "Training accuracy at epoch 7 is 24.6\n",
      "Mean training loss at epoch 7 is 0.1571911931037903\n",
      "Validaton accuracy at epoch 7 is 0.8571428571428571\n",
      "Mean validation loss at epoch 7 is 0.204020693898201\n",
      "Elapsed time at start of epoch 8 is 80.40234279632568s\n",
      "Training accuracy at epoch 8 is 25.6\n",
      "Mean training loss at epoch 8 is 0.1419036567211151\n",
      "Validaton accuracy at epoch 8 is 0.8571428571428571\n",
      "Mean validation loss at epoch 8 is 0.19779346883296967\n",
      "Elapsed time at start of epoch 9 is 80.14616394042969s\n",
      "Training accuracy at epoch 9 is 25.4\n",
      "Mean training loss at epoch 9 is 0.1308442771434784\n",
      "Validaton accuracy at epoch 9 is 0.7142857142857143\n",
      "Mean validation loss at epoch 9 is 0.19651281833648682\n",
      "Elapsed time at start of epoch 10 is 87.22420310974121s\n",
      "Training accuracy at epoch 10 is 26.0\n",
      "Mean training loss at epoch 10 is 0.12242226153612137\n",
      "Validaton accuracy at epoch 10 is 0.7142857142857143\n",
      "Mean validation loss at epoch 10 is 0.19304387271404266\n",
      "Elapsed time at start of epoch 11 is 88.76703596115112s\n",
      "Training accuracy at epoch 11 is 26.4\n",
      "Mean training loss at epoch 11 is 0.10950682014226913\n",
      "Validaton accuracy at epoch 11 is 0.7142857142857143\n",
      "Mean validation loss at epoch 11 is 0.19817900657653809\n",
      "Elapsed time at start of epoch 12 is 87.87307786941528s\n",
      "Training accuracy at epoch 12 is 26.8\n",
      "Mean training loss at epoch 12 is 0.09525087028741837\n",
      "Validaton accuracy at epoch 12 is 0.7142857142857143\n",
      "Mean validation loss at epoch 12 is 0.1998441219329834\n",
      "Elapsed time at start of epoch 13 is 89.00840616226196s\n",
      "Training accuracy at epoch 13 is 26.8\n",
      "Mean training loss at epoch 13 is 0.08514600843191147\n",
      "Validaton accuracy at epoch 13 is 0.7142857142857143\n",
      "Mean validation loss at epoch 13 is 0.21210913360118866\n",
      "Elapsed time at start of epoch 14 is 87.08935308456421s\n",
      "Training accuracy at epoch 14 is 26.8\n",
      "Mean training loss at epoch 14 is 0.07716855332255364\n",
      "Validaton accuracy at epoch 14 is 0.7142857142857143\n",
      "Mean validation loss at epoch 14 is 0.2119801938533783\n",
      "Elapsed time at start of epoch 15 is 86.37292504310608s\n",
      "Training accuracy at epoch 15 is 27.0\n",
      "Mean training loss at epoch 15 is 0.06839473694562911\n",
      "Validaton accuracy at epoch 15 is 0.7142857142857143\n",
      "Mean validation loss at epoch 15 is 0.23734520375728607\n",
      "Elapsed time at start of epoch 16 is 87.14211511611938s\n",
      "Training accuracy at epoch 16 is 26.8\n",
      "Mean training loss at epoch 16 is 0.0625313401222229\n",
      "Validaton accuracy at epoch 16 is 0.7142857142857143\n",
      "Mean validation loss at epoch 16 is 0.22757959365844727\n",
      "Elapsed time at start of epoch 17 is 82.25834393501282s\n",
      "Training accuracy at epoch 17 is 27.0\n",
      "Mean training loss at epoch 17 is 0.05768352672457695\n",
      "Validaton accuracy at epoch 17 is 0.7142857142857143\n",
      "Mean validation loss at epoch 17 is 0.25454118847846985\n",
      "Elapsed time at start of epoch 18 is 88.14797163009644s\n",
      "Training accuracy at epoch 18 is 27.0\n",
      "Mean training loss at epoch 18 is 0.051516254991292955\n",
      "Validaton accuracy at epoch 18 is 0.7142857142857143\n",
      "Mean validation loss at epoch 18 is 0.2467106133699417\n",
      "Elapsed time at start of epoch 19 is 87.01400709152222s\n",
      "Training accuracy at epoch 19 is 27.0\n",
      "Mean training loss at epoch 19 is 0.04826431050896644\n",
      "Validaton accuracy at epoch 19 is 0.7142857142857143\n",
      "Mean validation loss at epoch 19 is 0.24798472225666046\n",
      "Elapsed time at start of epoch 20 is 87.16513419151306s\n",
      "Training accuracy at epoch 20 is 27.0\n",
      "Mean training loss at epoch 20 is 0.04437774270772934\n",
      "Validaton accuracy at epoch 20 is 0.7142857142857143\n",
      "Mean validation loss at epoch 20 is 0.26537907123565674\n",
      "Elapsed time at start of epoch 21 is 83.67144393920898s\n",
      "Training accuracy at epoch 21 is 27.0\n",
      "Mean training loss at epoch 21 is 0.04172690585255623\n",
      "Validaton accuracy at epoch 21 is 0.7142857142857143\n",
      "Mean validation loss at epoch 21 is 0.25297051668167114\n",
      "Elapsed time at start of epoch 22 is 79.57154893875122s\n",
      "Training accuracy at epoch 22 is 27.0\n",
      "Mean training loss at epoch 22 is 0.039843862131237986\n",
      "Validaton accuracy at epoch 22 is 0.7142857142857143\n",
      "Mean validation loss at epoch 22 is 0.2672800123691559\n",
      "Elapsed time at start of epoch 23 is 79.67796397209167s\n",
      "Training accuracy at epoch 23 is 27.0\n",
      "Mean training loss at epoch 23 is 0.03840056583285332\n",
      "Validaton accuracy at epoch 23 is 0.7142857142857143\n",
      "Mean validation loss at epoch 23 is 0.2855469286441803\n",
      "Elapsed time at start of epoch 24 is 79.63125801086426s\n",
      "Training accuracy at epoch 24 is 27.0\n",
      "Mean training loss at epoch 24 is 0.036438965052366254\n",
      "Validaton accuracy at epoch 24 is 0.7142857142857143\n",
      "Mean validation loss at epoch 24 is 0.28167101740837097\n",
      "Elapsed time at start of epoch 25 is 79.45635890960693s\n",
      "Training accuracy at epoch 25 is 27.0\n",
      "Mean training loss at epoch 25 is 0.033358809724450114\n",
      "Validaton accuracy at epoch 25 is 0.7142857142857143\n",
      "Mean validation loss at epoch 25 is 0.2817997932434082\n",
      "Elapsed time at start of epoch 26 is 79.5381121635437s\n",
      "Training accuracy at epoch 26 is 27.0\n",
      "Mean training loss at epoch 26 is 0.03347972184419632\n",
      "Validaton accuracy at epoch 26 is 0.7142857142857143\n",
      "Mean validation loss at epoch 26 is 0.28323081135749817\n",
      "Elapsed time at start of epoch 27 is 79.57343697547913s\n",
      "Training accuracy at epoch 27 is 27.0\n",
      "Mean training loss at epoch 27 is 0.031278128176927565\n",
      "Validaton accuracy at epoch 27 is 0.7142857142857143\n",
      "Mean validation loss at epoch 27 is 0.28493550419807434\n",
      "Elapsed time at start of epoch 28 is 79.51506018638611s\n",
      "Training accuracy at epoch 28 is 27.0\n",
      "Mean training loss at epoch 28 is 0.030268162861466406\n",
      "Validaton accuracy at epoch 28 is 0.7142857142857143\n",
      "Mean validation loss at epoch 28 is 0.2931724488735199\n",
      "Elapsed time at start of epoch 29 is 79.63841676712036s\n",
      "Training accuracy at epoch 29 is 27.0\n",
      "Mean training loss at epoch 29 is 0.02877967171370983\n",
      "Validaton accuracy at epoch 29 is 0.7142857142857143\n",
      "Mean validation loss at epoch 29 is 0.3104991018772125\n"
     ]
    }
   ],
   "source": [
    "epochs = 30\n",
    "batch_size=BATCH_SIZE\n",
    "device='cpu'\n",
    "learning_rate=0.00001\n",
    "loss_fn = nn.CrossEntropyLoss().to(device)\n",
    "optimizer = AdamW(model.parameters(), lr=learning_rate, correct_bias=False)\n",
    "total_steps = len(train_dataloader) * epochs\n",
    "scheduler = get_linear_schedule_with_warmup(\n",
    "  optimizer,\n",
    "  num_warmup_steps=0,\n",
    "  num_training_steps=total_steps\n",
    ")\n",
    "\n",
    "history = defaultdict(list)\n",
    "best_accuracy = 0\n",
    "\n",
    "oldtime = time.time()\n",
    "\n",
    "for i  in range(epochs):\n",
    "    newtime = time.time()\n",
    "    delta = newtime - oldtime\n",
    "    oldtime = newtime\n",
    "    print(f'Elapsed time at start of epoch {i} is {delta}s')\n",
    "    accuracy, mean_loss = train(batch_size,train_dataloader, model, loss_fn, len(df_train), optimizer, device)\n",
    "    history['train_acc'].append(accuracy)\n",
    "    history['train_loss'].append(mean_loss)\n",
    "    print(f'Training accuracy at epoch {i} is {accuracy}')\n",
    "    print(f'Mean training loss at epoch {i} is {mean_loss}')\n",
    "    valAccuracy, mean_val_loss = validate(model, val_dataloader, loss_fn, len(df_val), device)\n",
    "    history['val_acc'].append(valAccuracy)\n",
    "    history['val_loss'].append(mean_val_loss)\n",
    "    print(f'Validaton accuracy at epoch {i} is {valAccuracy}')\n",
    "    print(f'Mean validation loss at epoch {i} is {mean_val_loss}')\n",
    "    \n",
    "    if valAccuracy > best_accuracy:\n",
    "        torch.save(model.state_dict(), 'best_model_state.bin')\n",
    "        best_accuracy = valAccuracy\n",
    "    "
   ]
  },
  {
   "cell_type": "code",
   "execution_count": 12,
   "id": "dedaddc9",
   "metadata": {
    "id": "dedaddc9"
   },
   "outputs": [
    {
     "data": {
      "image/png": "[encoded data removed]",
      "text/plain": [
       "<Figure size 432x288 with 1 Axes>"
      ]
     },
     "metadata": {
      "needs_background": "light"
     },
     "output_type": "display_data"
    }
   ],
   "source": [
    "plt.plot(history['train_acc'], label='train accuracy')\n",
    "plt.plot(history['val_acc'], label='validation accuracy')\n",
    "\n",
    "plt.title('Training history')\n",
    "plt.ylabel('Accuracy')\n",
    "plt.xlabel('Epoch')\n",
    "plt.legend()\n",
    "plt.ylim([0, 100]);"
   ]
  },
  {
   "cell_type": "code",
   "execution_count": null,
   "id": "07ef2212",
   "metadata": {
    "id": "07ef2212"
   },
   "outputs": [],
   "source": []
  },
  {
   "cell_type": "code",
   "execution_count": null,
   "id": "bdc6dadb",
   "metadata": {
    "id": "bdc6dadb"
   },
   "outputs": [],
   "source": []
  }
 ],
 "metadata": {
  "colab": {
   "name": "bert_stance_detection_v2.ipynb",
   "provenance": []
  },
  "kernelspec": {
   "display_name": "Python 3 (ipykernel)",
   "language": "python",
   "name": "python3"
  },
  "language_info": {
   "codemirror_mode": {
    "name": "ipython",
    "version": 3
   },
   "file_extension": ".py",
   "mimetype": "text/x-python",
   "name": "python",
   "nbconvert_exporter": "python",
   "pygments_lexer": "ipython3",
   "version": "3.9.9"
  }
 },
 "nbformat": 4,
 "nbformat_minor": 5
}
